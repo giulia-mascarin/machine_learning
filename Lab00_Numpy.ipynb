{
  "nbformat": 4,
  "nbformat_minor": 0,
  "metadata": {
    "colab": {
      "provenance": [],
      "include_colab_link": true
    },
    "kernelspec": {
      "name": "python3",
      "display_name": "Python 3"
    }
  },
  "cells": [
    {
      "cell_type": "markdown",
      "metadata": {
        "id": "view-in-github",
        "colab_type": "text"
      },
      "source": [
        "<a href=\"https://colab.research.google.com/github/giulia-mascarin/machine_learning/blob/main/Lab00_Numpy.ipynb\" target=\"_parent\"><img src=\"https://colab.research.google.com/assets/colab-badge.svg\" alt=\"Open In Colab\"/></a>"
      ]
    },
    {
      "cell_type": "code",
      "metadata": {
        "id": "NNqvKLPtgiVh",
        "colab": {
          "base_uri": "https://localhost:8080/"
        },
        "outputId": "01a215d4-8188-4afe-d033-eb82339f1f12"
      },
      "source": [
        "import numpy as np\n",
        "print(np.__version__)"
      ],
      "execution_count": null,
      "outputs": [
        {
          "output_type": "stream",
          "name": "stdout",
          "text": [
            "2.0.2\n"
          ]
        }
      ]
    },
    {
      "cell_type": "markdown",
      "metadata": {
        "id": "CD5WxKAheGux"
      },
      "source": [
        "Numpy provides many functions to **create** arrays\n"
      ]
    },
    {
      "cell_type": "code",
      "metadata": {
        "id": "qIjpmiLyeN2r",
        "colab": {
          "base_uri": "https://localhost:8080/"
        },
        "outputId": "8b8a2bfb-5dda-4ef2-de3f-531062a166a2"
      },
      "source": [
        "a = np.zeros((2,2))   # Create an array of all zeros\n",
        "print(a)              # Prints \"[[ 0.  0.]\n",
        "                      #          [ 0.  0.]]\"\n",
        "\n",
        "b = np.ones((1,2))    # Create an array of all ones\n",
        "print(b)              # Prints \"[[ 1.  1.]]\"\n",
        "\n",
        "c = np.full((2,2), 7)  # Create a constant array\n",
        "print(c)               # Prints \"[[ 7.  7.]\n",
        "                       #          [ 7.  7.]]\"\n",
        "\n",
        "d = np.eye(2)         # Create a 2x2 identity matrix\n",
        "print(d)              # Prints \"[[ 1.  0.]\n",
        "                      #          [ 0.  1.]]\"\n",
        "\n",
        "e = np.random.random((2,2))  # Create an array filled with random values\n",
        "print(e)"
      ],
      "execution_count": null,
      "outputs": [
        {
          "output_type": "stream",
          "name": "stdout",
          "text": [
            "[[0. 0.]\n",
            " [0. 0.]]\n",
            "[[1. 1.]]\n",
            "[[7 7]\n",
            " [7 7]]\n",
            "[[1. 0.]\n",
            " [0. 1.]]\n",
            "[[0.84442847 0.86468485]\n",
            " [0.56219513 0.05303487]]\n"
          ]
        }
      ]
    },
    {
      "cell_type": "markdown",
      "metadata": {
        "id": "_k1xE_86eU0V"
      },
      "source": [
        "\n",
        "**Slicing:** In addition to accessing list elements one at a time, Python provides concise syntax to access sublists; this is known as slicing.\n"
      ]
    },
    {
      "cell_type": "code",
      "metadata": {
        "id": "q4_WveyPec6S",
        "colab": {
          "base_uri": "https://localhost:8080/"
        },
        "outputId": "38995a64-9b10-4cc7-d564-4438e30c17d0"
      },
      "source": [
        "nums = list(range(5))     # range is a built-in function that creates a list of integers\n",
        "nums = np.array(nums)     # convert python list to numpy array\n",
        "print(nums)               # Prints \"[0, 1, 2, 3, 4]\"\n",
        "print(nums[2:4])          # Get a slice from index 2 to 4 (exclusive); prints \"[2, 3]\"\n",
        "print(nums[2:])           # Get a slice from index 2 to the end; prints \"[2, 3, 4]\"\n",
        "print(nums[:2])           # Get a slice from the start to index 2 (exclusive); prints \"[0, 1]\"\n",
        "print(nums[:])            # Get a slice of the whole list; prints \"[0, 1, 2, 3, 4]\"\n",
        "print(nums[:-1])          # Slice indices can be negative; prints \"[0, 1, 2, 3]\"\n",
        "nums[2:4] = [8, 9]        # Create a new sub-array\n",
        "print(nums)\n",
        "print(nums.shape)"
      ],
      "execution_count": null,
      "outputs": [
        {
          "output_type": "stream",
          "name": "stdout",
          "text": [
            "[0 1 2 3 4]\n",
            "[2 3]\n",
            "[2 3 4]\n",
            "[0 1]\n",
            "[0 1 2 3 4]\n",
            "[0 1 2 3]\n",
            "[0 1 8 9 4]\n",
            "(5,)\n"
          ]
        }
      ]
    },
    {
      "cell_type": "markdown",
      "metadata": {
        "id": "DNqN07rkd5KM"
      },
      "source": [
        "\n",
        "Let us see some examples of **Matrix** **multiplication**\n"
      ]
    },
    {
      "cell_type": "code",
      "metadata": {
        "id": "MXYMUVigdc7B"
      },
      "source": [
        "import time  # import module to calculate execution time\n"
      ],
      "execution_count": null,
      "outputs": []
    },
    {
      "cell_type": "code",
      "metadata": {
        "id": "NPqCCIc7PL4G",
        "colab": {
          "base_uri": "https://localhost:8080/"
        },
        "outputId": "455cf2c7-00e9-41e1-b065-929aaed32f11"
      },
      "source": [
        "x = np.array([1, 0.01, 0.5, 0.78])\n",
        "w = np.array([1, 2, 3, -3])\n",
        "b = 0.5\n",
        "\n",
        "start_time = time.time()\n",
        "y = np.dot(w, x) + b  # linear regression\n",
        "end_time = time.time()\n",
        "print(y)\n",
        "print(y.shape)\n",
        "\n",
        "vec_time = end_time-start_time\n",
        "print(\"Execution time with vectorization {} seconds\".format(vec_time))"
      ],
      "execution_count": null,
      "outputs": [
        {
          "output_type": "stream",
          "name": "stdout",
          "text": [
            "0.6800000000000002\n",
            "()\n",
            "Execution time with vectorization 0.0001590251922607422 seconds\n"
          ]
        }
      ]
    },
    {
      "cell_type": "markdown",
      "metadata": {
        "id": "7IynXQpzd4pP"
      },
      "source": [
        "The same result can be obtained with a less efficient for loop."
      ]
    },
    {
      "cell_type": "code",
      "metadata": {
        "id": "mlRc41u4d1Xz",
        "colab": {
          "base_uri": "https://localhost:8080/"
        },
        "outputId": "ea2bd4b1-2a7b-49db-c32c-e15cf95fc1a6"
      },
      "source": [
        "start_time = time.time()\n",
        "x_n = x.shape[0]\n",
        "y = 0\n",
        "for i in range(x_n):\n",
        "   y += w[i]*x[i] + b\n",
        "end_time = time.time()\n",
        "\n",
        "print(y)\n",
        "print(y.shape)\n",
        "\n",
        "print(\"Execution time without vectorization {} seconds\".format(end_time-start_time))\n",
        "print(vec_time/(end_time-start_time))   # print the increase in execution time\n",
        "                                        # warning: for small vectors it varies a lot between runs!"
      ],
      "execution_count": null,
      "outputs": [
        {
          "output_type": "stream",
          "name": "stdout",
          "text": [
            "2.1799999999999997\n",
            "()\n",
            "Execution time without vectorization 0.0002875328063964844 seconds\n",
            "0.5530679933665008\n"
          ]
        }
      ]
    },
    {
      "cell_type": "markdown",
      "metadata": {
        "id": "7lfoJd7QfFYY"
      },
      "source": [
        "The matmul function allow to multiply N-Dimensional arrays - the behaviour\n",
        "\n"
      ]
    },
    {
      "cell_type": "code",
      "metadata": {
        "id": "bb97wc8iUEvM"
      },
      "source": [
        "a = np.random.random_sample(size=(5,3))  # generate random matrix with 5 rows and 3 columns\n",
        "b = np.random.random_sample(size=(3,4))  # generate random matrix with 3 rows and 4 columns\n",
        "\n",
        "print(a)\n",
        "print(b)\n",
        "\n",
        "c = np.matmul(a,b)\n",
        "print(c)\n",
        "print(c.shape)     # prints the shape of the resulting matrix, e.g. (5,4)"
      ],
      "execution_count": null,
      "outputs": []
    },
    {
      "cell_type": "markdown",
      "metadata": {
        "id": "anDNZjvJd2Ou"
      },
      "source": [
        "\n",
        "What happens if the inner dimensions are not compatible?\n"
      ]
    },
    {
      "cell_type": "code",
      "metadata": {
        "id": "VErgI9nzfOvG"
      },
      "source": [
        "print(np.matmul(b, a))"
      ],
      "execution_count": null,
      "outputs": []
    },
    {
      "cell_type": "markdown",
      "metadata": {
        "id": "zUzs-FmjfdHJ"
      },
      "source": [
        "Let us see another example of how a vectorized implementation is more efficient!\n"
      ]
    },
    {
      "cell_type": "code",
      "metadata": {
        "id": "L3WRRwtQfP7j"
      },
      "source": [
        "a = np.random.random_sample((5000,))    # generate a large vector\n",
        "\n",
        "# vectorized calculation\n",
        "start_time = time.time()\n",
        "exp_a = np.exp(a)\n",
        "end_time = time.time()\n",
        "print(\"Execution time with vectorization {} seconds\".format(end_time-start_time))\n",
        "\n",
        "start_time = time.time()\n",
        "x_n = a.shape[0]\n",
        "exp_a = np.zeros(a.shape)\n",
        "for i in range(x_n):\n",
        "   exp_a[i] = np.exp(a[i])\n",
        "end_time = time.time()\n",
        "print(\"Execution time without vectorization {} seconds\".format(end_time-start_time))"
      ],
      "execution_count": null,
      "outputs": []
    },
    {
      "cell_type": "markdown",
      "metadata": {
        "id": "M_OZaEyI60wt"
      },
      "source": [
        "\n",
        "**Exercise 1**\n",
        "\n",
        "\n",
        "Given the amount of Carbs, Proteins, Fats in 100g of different foods,\n",
        "knowing that carbs and proteins provides 4 calories and fats 9 calories,\n",
        "calculate the % of calories from carbs, proteins and fats for each food\n"
      ]
    },
    {
      "cell_type": "code",
      "metadata": {
        "id": "G1CdeuBA7Bfm",
        "colab": {
          "base_uri": "https://localhost:8080/"
        },
        "outputId": "d6aacb04-f96c-4c98-cceb-079f1e2af561"
      },
      "source": [
        "grams = np.array([[ 27, 5.8, 41.5, 18.0 ], [ 0.7, 2.5, 8, 4 ],[ 0.2, 0.3, 1.2, 29.5 ]])\n",
        "grams"
      ],
      "execution_count": null,
      "outputs": [
        {
          "output_type": "execute_result",
          "data": {
            "text/plain": [
              "array([[27. ,  5.8, 41.5, 18. ],\n",
              "       [ 0.7,  2.5,  8. ,  4. ],\n",
              "       [ 0.2,  0.3,  1.2, 29.5]])"
            ]
          },
          "metadata": {},
          "execution_count": 7
        }
      ]
    },
    {
      "cell_type": "code",
      "metadata": {
        "id": "zXCiHU5B7a9l",
        "colab": {
          "base_uri": "https://localhost:8080/"
        },
        "outputId": "635e71a2-d9c1-41f0-98f3-cb462eaadca5"
      },
      "source": [
        "for i in range(grams.shape[1]):\n",
        "  print(grams[:,i]/100)"
      ],
      "execution_count": null,
      "outputs": [
        {
          "output_type": "stream",
          "name": "stdout",
          "text": [
            "[0.27  0.007 0.002]\n",
            "[0.058 0.025 0.003]\n",
            "[0.415 0.08  0.012]\n",
            "[0.18  0.04  0.295]\n"
          ]
        }
      ]
    },
    {
      "cell_type": "markdown",
      "metadata": {
        "id": "gnIsh0Wp7dhs"
      },
      "source": [
        "**Exercise 2**\n",
        "\n",
        "Given two 1-D arrays **x** (real values) and **y** (discreet labels), and a constant parameter *m*, implement the following formula:"
      ]
    },
    {
      "cell_type": "markdown",
      "metadata": {
        "id": "OZRiRIL07glM"
      },
      "source": [
        "$z_i = \\bigg \\{ \\begin{matrix} \\parallel x_i \\parallel ^ 2 \\text{  if  } y_i =1 \\\\ \\parallel m - x_i \\parallel ^ 2 \\text{  if  } y_i = 0 \\end{matrix}$"
      ]
    },
    {
      "cell_type": "code",
      "metadata": {
        "id": "JhFDaphO7oAz",
        "colab": {
          "base_uri": "https://localhost:8080/"
        },
        "outputId": "16bd1f7e-86c1-4839-c165-06b57dc22345"
      },
      "source": [
        "x = np.array([0.08444168, 0.5717077,  0.86764178, 0.2427889,  0.44898618, 0.23330771,\n",
        " 0.14876752, 0.41267104, 0.38951113, 0.60130308])\n",
        "print(x)\n",
        "y = np.array([0, 0, 1, 1, 0, 0, 0, 1, 1, 0])\n",
        "print(y)\n"
      ],
      "execution_count": null,
      "outputs": [
        {
          "output_type": "stream",
          "name": "stdout",
          "text": [
            "[0.08444168 0.5717077  0.86764178 0.2427889  0.44898618 0.23330771\n",
            " 0.14876752 0.41267104 0.38951113 0.60130308]\n",
            "[0 0 1 1 0 0 0 1 1 0]\n"
          ]
        }
      ]
    },
    {
      "cell_type": "code",
      "metadata": {
        "id": "tcfCbuwK7_yC",
        "colab": {
          "base_uri": "https://localhost:8080/"
        },
        "outputId": "50c72832-eb16-428c-f6ed-6ddda744fa17"
      },
      "source": [
        "m = 5\n",
        "for i in range(x.size):\n",
        "  if y[i] == 1:\n",
        "    print(np.linalg.norm(x[i])**2)\n",
        "  else:\n",
        "    print((m-x[i])**2)"
      ],
      "execution_count": null,
      "outputs": [
        {
          "output_type": "stream",
          "name": "stdout",
          "text": [
            "24.16271359732122\n",
            "19.60977269423929\n",
            "0.7528022584015684\n",
            "0.05894644996321\n",
            "20.71172678983099\n",
            "22.721355387545444\n",
            "23.534456575006953\n",
            "0.1702973872546816\n",
            "0.15171892039387688\n",
            "19.348534594017487\n"
          ]
        }
      ]
    },
    {
      "cell_type": "markdown",
      "metadata": {
        "id": "aZLjiPy57m0B"
      },
      "source": [
        "**Exercise 3**\n",
        "\n",
        "Given a matrix x of size M by N, where M is the number of samples and N is the number of features, write a vectorized expression to perform min-max scaling:\n",
        "𝑥′=  (𝑥  − min⁡(𝑥))/(max⁡(𝑥)−min⁡(𝑥))\n",
        "\n"
      ]
    },
    {
      "cell_type": "code",
      "metadata": {
        "id": "8rVVP1DziTRt",
        "colab": {
          "base_uri": "https://localhost:8080/"
        },
        "outputId": "e4ef210c-0ec8-4c82-f028-b06591ac7a60"
      },
      "source": [
        "mat = np.random.random_sample(size=(3,5))\n",
        "mat_scaled = (mat - np.min(mat))/(np.max(mat)-np.min(mat))\n",
        "print(mat)\n",
        "print(mat_scaled)"
      ],
      "execution_count": null,
      "outputs": [
        {
          "output_type": "stream",
          "name": "stdout",
          "text": [
            "[[0.63029764 0.60515898 0.9121552  0.70241272 0.20073098]\n",
            " [0.43541978 0.58461187 0.45169967 0.95356083 0.72406492]\n",
            " [0.46773786 0.55084058 0.87447484 0.10619488 0.31403908]]\n",
            "[[0.61850817 0.58884133 0.95113607 0.70361317 0.11156467]\n",
            " [0.38852741 0.56459313 0.40773975 1.         0.72916553]\n",
            " [0.42666687 0.52473869 0.90666843 0.         0.24528269]]\n"
          ]
        }
      ]
    },
    {
      "cell_type": "markdown",
      "metadata": {
        "id": "EImv8YI_h_ZJ"
      },
      "source": [
        "**Exercise 4**\n",
        "\n",
        "\n",
        "Given a 1D array, calculate the average of each consecutive triplet\n"
      ]
    },
    {
      "cell_type": "code",
      "metadata": {
        "id": "JFDqS71nigjm",
        "colab": {
          "base_uri": "https://localhost:8080/"
        },
        "outputId": "aaa4f3d9-6018-481b-b35f-a69bfd105944"
      },
      "source": [
        "x = np.array([1, 3, 5, 10, 15, 12, 23, 5, 6])\n",
        "\n",
        "size_mean_array = x.size - 2\n",
        "\n",
        "for i in range(size_mean_array):\n",
        "  print(np.mean(x[i:i+3]))\n"
      ],
      "execution_count": null,
      "outputs": [
        {
          "output_type": "stream",
          "name": "stdout",
          "text": [
            "3.0\n",
            "6.0\n",
            "10.0\n",
            "12.333333333333334\n",
            "16.666666666666668\n",
            "13.333333333333334\n",
            "11.333333333333334\n"
          ]
        }
      ]
    }
  ]
}