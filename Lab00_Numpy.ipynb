{
  "nbformat": 4,
  "nbformat_minor": 0,
  "metadata": {
    "colab": {
      "provenance": [],
      "collapsed_sections": []
    },
    "kernelspec": {
      "name": "python3",
      "display_name": "Python 3"
    }
  },
  "cells": [
    {
      "cell_type": "code",
      "metadata": {
        "id": "NNqvKLPtgiVh"
      },
      "source": [
        "import numpy as np\n",
        "print(np.__version__)"
      ],
      "execution_count": null,
      "outputs": []
    },
    {
      "cell_type": "markdown",
      "metadata": {
        "id": "CD5WxKAheGux"
      },
      "source": [
        "Numpy provides many functions to **create** arrays\n"
      ]
    },
    {
      "cell_type": "code",
      "metadata": {
        "id": "qIjpmiLyeN2r"
      },
      "source": [
        "a = np.zeros((2,2))   # Create an array of all zeros\n",
        "print(a)              # Prints \"[[ 0.  0.]\n",
        "                      #          [ 0.  0.]]\"\n",
        "\n",
        "b = np.ones((1,2))    # Create an array of all ones\n",
        "print(b)              # Prints \"[[ 1.  1.]]\"\n",
        "\n",
        "c = np.full((2,2), 7)  # Create a constant array\n",
        "print(c)               # Prints \"[[ 7.  7.]\n",
        "                       #          [ 7.  7.]]\"\n",
        "\n",
        "d = np.eye(2)         # Create a 2x2 identity matrix\n",
        "print(d)              # Prints \"[[ 1.  0.]\n",
        "                      #          [ 0.  1.]]\"\n",
        "\n",
        "e = np.random.random((2,2))  # Create an array filled with random values\n",
        "print(e)                     "
      ],
      "execution_count": null,
      "outputs": []
    },
    {
      "cell_type": "markdown",
      "metadata": {
        "id": "_k1xE_86eU0V"
      },
      "source": [
        "\n",
        "**Slicing:** In addition to accessing list elements one at a time, Python provides concise syntax to access sublists; this is known as slicing.\n"
      ]
    },
    {
      "cell_type": "code",
      "metadata": {
        "id": "q4_WveyPec6S"
      },
      "source": [
        "nums = list(range(5))     # range is a built-in function that creates a list of integers\n",
        "nums = np.array(nums)     # convert python list to numpy array\n",
        "print(nums)               # Prints \"[0, 1, 2, 3, 4]\"\n",
        "print(nums[2:4])          # Get a slice from index 2 to 4 (exclusive); prints \"[2, 3]\"\n",
        "print(nums[2:])           # Get a slice from index 2 to the end; prints \"[2, 3, 4]\"\n",
        "print(nums[:2])           # Get a slice from the start to index 2 (exclusive); prints \"[0, 1]\"\n",
        "print(nums[:])            # Get a slice of the whole list; prints \"[0, 1, 2, 3, 4]\"\n",
        "print(nums[:-1])          # Slice indices can be negative; prints \"[0, 1, 2, 3]\"\n",
        "nums[2:4] = [8, 9]        # Create a new sub-array\n",
        "print(nums)  \n",
        "print(nums.shape) "
      ],
      "execution_count": null,
      "outputs": []
    },
    {
      "cell_type": "markdown",
      "metadata": {
        "id": "DNqN07rkd5KM"
      },
      "source": [
        "\n",
        "Let us see some examples of **Matrix** **multiplication**\n"
      ]
    },
    {
      "cell_type": "code",
      "metadata": {
        "id": "MXYMUVigdc7B"
      },
      "source": [
        "import time  # import module to calculate execution time\n"
      ],
      "execution_count": null,
      "outputs": []
    },
    {
      "cell_type": "code",
      "metadata": {
        "id": "NPqCCIc7PL4G"
      },
      "source": [
        "x = np.array([1, 0.01, 0.5, 0.78])\n",
        "w = np.array([1, 2, 3, -3])\n",
        "b = 0.5\n",
        "\n",
        "start_time = time.time()\n",
        "y = np.dot(w, x) + b  # linear regression\n",
        "end_time = time.time()\n",
        "print(y)\n",
        "print(y.shape)\n",
        "\n",
        "vec_time = end_time-start_time\n",
        "print(\"Execution time with vectorization {} seconds\".format(vec_time))"
      ],
      "execution_count": null,
      "outputs": []
    },
    {
      "cell_type": "markdown",
      "metadata": {
        "id": "7IynXQpzd4pP"
      },
      "source": [
        "The same result can be obtained with a less efficient for loop."
      ]
    },
    {
      "cell_type": "code",
      "metadata": {
        "id": "mlRc41u4d1Xz"
      },
      "source": [
        "start_time = time.time()\n",
        "x_n = x.shape[0]\n",
        "y = 0\n",
        "for i in range(x_n):\n",
        "   y += w[i]*x[i] + b\n",
        "end_time = time.time()\n",
        "\n",
        "print(y)\n",
        "print(y.shape)\n",
        "\n",
        "print(\"Execution time without vectorization {} seconds\".format(end_time-start_time))\n",
        "print(vec_time/(end_time-start_time))   # print the increase in execution time \n",
        "                                        # warning: for small vectors it varies a lot between runs!"
      ],
      "execution_count": null,
      "outputs": []
    },
    {
      "cell_type": "markdown",
      "metadata": {
        "id": "7lfoJd7QfFYY"
      },
      "source": [
        "The matmul function allow to multiply N-Dimensional arrays - the behaviour \n",
        "\n"
      ]
    },
    {
      "cell_type": "code",
      "metadata": {
        "id": "bb97wc8iUEvM"
      },
      "source": [
        "a = np.random.random_sample(size=(5,3))  # generate random matrix with 5 rows and 3 columns\n",
        "b = np.random.random_sample(size=(3,4))  # generate random matrix with 3 rows and 4 columns\n",
        "\n",
        "print(a)\n",
        "print(b)\n",
        "\n",
        "c = np.matmul(a,b)\n",
        "print(c)\n",
        "print(c.shape)     # prints the shape of the resulting matrix, e.g. (5,4)"
      ],
      "execution_count": null,
      "outputs": []
    },
    {
      "cell_type": "markdown",
      "metadata": {
        "id": "anDNZjvJd2Ou"
      },
      "source": [
        "\n",
        "What happens if the inner dimensions are not compatible?\n"
      ]
    },
    {
      "cell_type": "code",
      "metadata": {
        "id": "VErgI9nzfOvG"
      },
      "source": [
        "print(np.matmul(b, a))"
      ],
      "execution_count": null,
      "outputs": []
    },
    {
      "cell_type": "markdown",
      "metadata": {
        "id": "zUzs-FmjfdHJ"
      },
      "source": [
        "Let us see another example of how a vectorized implementation is more efficient!\n"
      ]
    },
    {
      "cell_type": "code",
      "metadata": {
        "id": "L3WRRwtQfP7j"
      },
      "source": [
        "a = np.random.random_sample((5000,))    # generate a large vector\n",
        "\n",
        "# vectorized calculation\n",
        "start_time = time.time()\n",
        "exp_a = np.exp(a)\n",
        "end_time = time.time()\n",
        "print(\"Execution time with vectorization {} seconds\".format(end_time-start_time))\n",
        "\n",
        "start_time = time.time()\n",
        "x_n = a.shape[0]\n",
        "exp_a = np.zeros(a.shape)\n",
        "for i in range(x_n):\n",
        "   exp_a[i] = np.exp(a[i])\n",
        "end_time = time.time()\n",
        "print(\"Execution time without vectorization {} seconds\".format(end_time-start_time))"
      ],
      "execution_count": null,
      "outputs": []
    },
    {
      "cell_type": "markdown",
      "metadata": {
        "id": "M_OZaEyI60wt"
      },
      "source": [
        "\n",
        "**Exercise 1**\n",
        "\n",
        "\n",
        "Given the amount of Carbs, Proteins, Fats in 100g of different foods, \n",
        "knowing that carbs and proteins provides 4 calories and fats 9 calories,\n",
        "calculate the % of calories from carbs, proteins and fats for each food\n"
      ]
    },
    {
      "cell_type": "code",
      "metadata": {
        "id": "G1CdeuBA7Bfm"
      },
      "source": [
        "grams = np.array([[ 27, 5.8, 41.5, 18.0 ], [ 0.7, 2.5, 8, 4 ],[ 0.2, 0.3, 1.2, 29.5 ]])\n",
        "grams"
      ],
      "execution_count": null,
      "outputs": []
    },
    {
      "cell_type": "code",
      "metadata": {
        "id": "zXCiHU5B7a9l"
      },
      "source": [
        "#insert here the solution"
      ],
      "execution_count": null,
      "outputs": []
    },
    {
      "cell_type": "markdown",
      "metadata": {
        "id": "gnIsh0Wp7dhs"
      },
      "source": [
        "**Exercise 2**\n",
        "\n",
        "Given two 1-D arrays **x** (real values) and **y** (discreet labels), and a constant parameter *m*, implement the following formula:"
      ]
    },
    {
      "cell_type": "markdown",
      "metadata": {
        "id": "OZRiRIL07glM"
      },
      "source": [
        "$z_i = \\bigg \\{ \\begin{matrix} \\parallel x_i \\parallel ^ 2 \\text{  if  } y_i =1 \\\\ \\parallel m - x_i \\parallel ^ 2 \\text{  if  } y_i = 0 \\end{matrix}$"
      ]
    },
    {
      "cell_type": "code",
      "metadata": {
        "id": "JhFDaphO7oAz"
      },
      "source": [
        "x = np.array([0.08444168, 0.5717077,  0.86764178, 0.2427889,  0.44898618, 0.23330771,\n",
        " 0.14876752, 0.41267104, 0.38951113, 0.60130308])\n",
        "print(x)\n",
        "y = np.array([0, 0, 1, 1, 0, 0, 0, 1, 1, 0])\n",
        "print(y)\n"
      ],
      "execution_count": null,
      "outputs": []
    },
    {
      "cell_type": "code",
      "metadata": {
        "id": "tcfCbuwK7_yC"
      },
      "source": [
        "# insert here the solution"
      ],
      "execution_count": null,
      "outputs": []
    },
    {
      "cell_type": "markdown",
      "metadata": {
        "id": "aZLjiPy57m0B"
      },
      "source": [
        "**Exercise 3**\n",
        "\n",
        "Given a matrix x of size M by N, where M is the number of samples and N is the number of features, write a vectorized expression to perform min-max scaling:\n",
        "𝑥′=  (𝑥  − min⁡(𝑥))/(max⁡(𝑥)−min⁡(𝑥))\n",
        "\n"
      ]
    },
    {
      "cell_type": "code",
      "metadata": {
        "id": "8rVVP1DziTRt"
      },
      "source": [
        "# insert here the solution"
      ],
      "execution_count": null,
      "outputs": []
    },
    {
      "cell_type": "markdown",
      "metadata": {
        "id": "EImv8YI_h_ZJ"
      },
      "source": [
        "**Exercise 4**\n",
        "\n",
        "\n",
        "Given a 1D array, calculate the average of each consecutive triplet\n"
      ]
    },
    {
      "cell_type": "code",
      "metadata": {
        "id": "JFDqS71nigjm"
      },
      "source": [
        "x = np.array([1, 3, 5, 10, 15, 12, 23, 5, 6])\n",
        "\n",
        "# insert here the solution"
      ],
      "execution_count": null,
      "outputs": []
    }
  ]
}